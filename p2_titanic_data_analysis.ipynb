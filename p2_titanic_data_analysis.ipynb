{
 "cells": [
  {
   "cell_type": "code",
   "execution_count": 80,
   "metadata": {
    "collapsed": true
   },
   "outputs": [],
   "source": [
    "%matplotlib inline"
   ]
  },
  {
   "cell_type": "markdown",
   "metadata": {},
   "source": [
    "Data analysis process for the titanic data.\n",
    "\n",
    "Step 1 : Data collection\n",
    "\n",
    "Data here is already collected in a csv which would be the input to this project.\n"
   ]
  },
  {
   "cell_type": "code",
   "execution_count": 81,
   "metadata": {
    "collapsed": false
   },
   "outputs": [],
   "source": [
    "import pandas as pd\n",
    "import matplotlib\n",
    "import matplotlib.pyplot as plt\n",
    "\n",
    "titanic_data_org = pd.read_csv(\"/Users/indur/Downloads/titanic_data.csv\")\n",
    "\n"
   ]
  },
  {
   "cell_type": "markdown",
   "metadata": {},
   "source": [
    "Step 2 : Data cleaning\n",
    "\n",
    "1.Looking at the data, I can see that for a few people in the data set, age is missing which is filled as NAN. \n",
    "\n",
    "For this project, I would like to fill missing age with  mean age (which is just an assumption and not computed with any detailed algotithm).\n"
   ]
  },
  {
   "cell_type": "code",
   "execution_count": 82,
   "metadata": {
    "collapsed": false,
    "scrolled": true
   },
   "outputs": [],
   "source": [
    "mean_age = titanic_data_org[\"Age\"].dropna().mean()\n",
    "titanic_data_org[\"Age\"] = titanic_data_org[\"Age\"].fillna(mean_age)\n"
   ]
  },
  {
   "cell_type": "markdown",
   "metadata": {},
   "source": [
    "2.Rearrange names in a common addressable format for easy readability since there are multiple formats in which the names are represented."
   ]
  },
  {
   "cell_type": "code",
   "execution_count": 83,
   "metadata": {
    "collapsed": false
   },
   "outputs": [],
   "source": [
    "def rearrange_name(str):\n",
    "    arr = str.split(\",\")\n",
    "    if len(arr) == 2:\n",
    "        return arr[1] + \" \" + arr[0]\n",
    "    elif len(arr) == 1:\n",
    "        return str\n",
    "   \n",
    "titanic_data_org[\"Name\"] = titanic_data_org[\"Name\"].apply(rearrange_name)\n"
   ]
  },
  {
   "cell_type": "markdown",
   "metadata": {},
   "source": [
    "3.Some of the passengers have a fare 0 against them. Since it could be valid (for some reason, they got a free trip) , the analysis will include them as passengers who actually paid nothing for the trip."
   ]
  },
  {
   "cell_type": "markdown",
   "metadata": {},
   "source": [
    "3.Analysis of data:\n",
    "    \n",
    "    Questions :\n",
    "        1. Did age have a role to play in whether a passenger escaped ?\n",
    "        2. What was the average fare paid across the different classes ?\n",
    "        3. What was the distribution of surival rate based on embarkment ?\n",
    "        4. Who had better chance of survival? Males/Females ?\n",
    "        5. What factors made people more likely to survive?\n",
    "        \n",
    "The following section will try to answer most of the questions posted above."
   ]
  },
  {
   "cell_type": "markdown",
   "metadata": {
    "collapsed": false
   },
   "source": [
    "Did age have a role to play in whether a passenger escaped ?\n",
    "To do this, I assume that if we see a strong correlation between a person age and survival , then we can assume that age has a role to play .\n",
    "\n"
   ]
  },
  {
   "cell_type": "code",
   "execution_count": 84,
   "metadata": {
    "collapsed": false
   },
   "outputs": [
    {
     "name": "stdout",
     "output_type": "stream",
     "text": [
      "-0.0698085152871\n"
     ]
    }
   ],
   "source": [
    "age_series =  titanic_data_org['Age']\n",
    "\n",
    "survived_series =  titanic_data_org['Survived']\n",
    "p_r = age_series.corr(survived_series,method='pearson')\n",
    "\n",
    "print p_r"
   ]
  },
  {
   "cell_type": "markdown",
   "metadata": {},
   "source": [
    "Since pearsons r is -0.07 . \n",
    "Since the value is very close to 0, there is very little negative correlation between age and survival. This is is so small, we can assume solely on this calculation and (previously filled mean ages for missing ages)  that age had no role to play in increasing a persons chance to escape."
   ]
  },
  {
   "cell_type": "markdown",
   "metadata": {},
   "source": [
    "What was the average fare paid across the different classes ?\n"
   ]
  },
  {
   "cell_type": "code",
   "execution_count": 111,
   "metadata": {
    "collapsed": false,
    "scrolled": true
   },
   "outputs": [
    {
     "name": "stdout",
     "output_type": "stream",
     "text": [
      "Pclass\n",
      "1    84.154687\n",
      "2    20.662183\n",
      "3    13.675550\n",
      "Name: Fare, dtype: float64\n"
     ]
    },
    {
     "data": {
      "text/plain": [
       "<matplotlib.text.Text at 0x107c84d50>"
      ]
     },
     "execution_count": 111,
     "metadata": {},
     "output_type": "execute_result"
    },
    {
     "data": {
      "image/png": "[encoded data removed]",
      "text/plain": [
       "<matplotlib.figure.Figure at 0x107fcbc10>"
      ]
     },
     "metadata": {},
     "output_type": "display_data"
    }
   ],
   "source": [
    "pclass_mean_far = titanic_data_org.groupby(['Pclass'])['Fare'].mean()\n",
    "print pclass_mean_far\n",
    "\n",
    "pclass = pclass_mean_far.index.get_level_values('Pclass')\n",
    "mean_fares =  pclass_mean_far.values\n",
    "\n",
    "#print pclass\n",
    "#print mean_fares\n",
    "plt.bar(pclass,mean_fares,align='center')\n",
    "plt.ylabel('Mean Fare')\n",
    "plt.xlabel('Class')\n"
   ]
  },
  {
   "cell_type": "markdown",
   "metadata": {},
   "source": [
    "On an average , passengers paid about \n",
    "$84.15 for class 1 \n",
    "$20.66 for class 2 \n",
    "$13.68 for class 3"
   ]
  },
  {
   "cell_type": "markdown",
   "metadata": {},
   "source": [
    "What was the distribution of surival rate based on embarkment ?"
   ]
  },
  {
   "cell_type": "code",
   "execution_count": 67,
   "metadata": {
    "collapsed": false,
    "scrolled": false
   },
   "outputs": [
    {
     "name": "stdout",
     "output_type": "stream",
     "text": [
      "Survival rate of people who embarked from C is 55%\n",
      "Survival rate of people who embarked from Q is 38%\n",
      "Survival rate of people who embarked from S is 33%\n"
     ]
    }
   ],
   "source": [
    "\n",
    "emd_data = titanic_data_org.groupby(['Embarked','Survived'])['PassengerId'].count()\n",
    "#print emd_data\n",
    "\n",
    "for value in emd_data.index.get_level_values('Embarked').unique():\n",
    "    print(\"Survival rate of people who embarked from {} is {}%\".format(value, (emd_data.ix[value][1] * 100) / ( emd_data.ix[value][0] + emd_data.ix[value][1])))\n"
   ]
  },
  {
   "cell_type": "markdown",
   "metadata": {
    "collapsed": true
   },
   "source": [
    "Who had better chance of survival? Males/Females ?"
   ]
  },
  {
   "cell_type": "code",
   "execution_count": 69,
   "metadata": {
    "collapsed": false
   },
   "outputs": [
    {
     "name": "stdout",
     "output_type": "stream",
     "text": [
      "Survival rate of  female is 74%\n",
      "Survival rate of  male is 18%\n"
     ]
    }
   ],
   "source": [
    "gender_data = titanic_data_org.groupby(['Sex','Survived'])['PassengerId'].count()\n",
    "\n",
    "for value in gender_data.index.get_level_values('Sex').unique():\n",
    "    print(\"Survival rate of  {} is {}%\".format(value, (gender_data.ix[value][1] * 100) / ( gender_data.ix[value][0] + gender_data.ix[value][1])))\n"
   ]
  },
  {
   "cell_type": "markdown",
   "metadata": {},
   "source": [
    "We can assume that females had a better chance of survival just based on the above calculations. This result is There might be a lot of other variables that might influence this decision but are not considered in the calculation above."
   ]
  },
  {
   "cell_type": "markdown",
   "metadata": {},
   "source": [
    "What factors made people more likely to survive?\n",
    "\n",
    "Based on the answers to the questions answered aboved, we can say  the following : \n",
    "1. Age did not influence did not aid in increasing survival chances.\n",
    "2. Females survived more than men in terms of number of people.\n",
    "\n"
   ]
  }
 ],
 "metadata": {
  "kernelspec": {
   "display_name": "Python 2",
   "language": "python",
   "name": "python2"
  },
  "language_info": {
   "codemirror_mode": {
    "name": "ipython",
    "version": 2
   },
   "file_extension": ".py",
   "mimetype": "text/x-python",
   "name": "python",
   "nbconvert_exporter": "python",
   "pygments_lexer": "ipython2",
   "version": "2.7.11"
  }
 },
 "nbformat": 4,
 "nbformat_minor": 0
}
