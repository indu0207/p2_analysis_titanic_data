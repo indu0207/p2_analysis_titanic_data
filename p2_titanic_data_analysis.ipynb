{
 "cells": [
  {
   "cell_type": "code",
   "execution_count": 2,
   "metadata": {
    "collapsed": true
   },
   "outputs": [],
   "source": [
    "%matplotlib inline"
   ]
  },
  {
   "cell_type": "markdown",
   "metadata": {},
   "source": [
    "Data analysis process for the titanic data.\n",
    "\n",
    "Step 1 : Data collection\n",
    "\n",
    "Data here is already collected in a csv which would be the input to this project.\n"
   ]
  },
  {
   "cell_type": "code",
   "execution_count": 3,
   "metadata": {
    "collapsed": false
   },
   "outputs": [],
   "source": [
    "import pandas as pd\n",
    "import numpy as np\n",
    "import matplotlib\n",
    "import matplotlib.pyplot as plt\n",
    "import math\n",
    "\n",
    "titanic_data_org = pd.read_csv(\"/Users/indur/Downloads/titanic_data.csv\")\n",
    "titanic_data = titanic_data_org.copy(deep=True)\n"
   ]
  },
  {
   "cell_type": "markdown",
   "metadata": {},
   "source": [
    "Step 2 : Data cleaning\n",
    "\n",
    "1.Looking at the data, I can see that for a few people in the data set, age is missing which is filled as NAN. \n",
    "\n",
    "For this project, I would like to fill missing age with  mean age (which is just an assumption and not computed with any detailed algotithm).\n"
   ]
  },
  {
   "cell_type": "code",
   "execution_count": 4,
   "metadata": {
    "collapsed": false,
    "scrolled": true
   },
   "outputs": [],
   "source": [
    "mean_age = titanic_data_org[\"Age\"].dropna().mean()\n",
    "titanic_data_org[\"Age\"] = titanic_data_org[\"Age\"].fillna(mean_age)\n"
   ]
  },
  {
   "cell_type": "markdown",
   "metadata": {},
   "source": [
    "2.Rearrange names in a common addressable format for easy readability since there are multiple formats in which the names are represented."
   ]
  },
  {
   "cell_type": "code",
   "execution_count": 5,
   "metadata": {
    "collapsed": false
   },
   "outputs": [],
   "source": [
    "def rearrange_name(str):\n",
    "    arr = str.split(\",\")\n",
    "    if len(arr) == 2:\n",
    "        return arr[1] + \" \" + arr[0]\n",
    "    elif len(arr) == 1:\n",
    "        return str\n",
    "   \n",
    "titanic_data_org[\"Name\"] = titanic_data_org[\"Name\"].apply(rearrange_name)\n"
   ]
  },
  {
   "cell_type": "markdown",
   "metadata": {},
   "source": [
    "3.Some of the passengers have a fare 0 against them. Since it could be valid (for some reason, they got a free trip) , the analysis will include them as passengers who actually paid nothing for the trip."
   ]
  },
  {
   "cell_type": "markdown",
   "metadata": {},
   "source": [
    "3.Analysis of data:\n",
    "    \n",
    "    Questions :\n",
    "        1. Did age have a role to play in whether a passenger escaped ?\n",
    "        2. What was the average fare paid across the different classes ?\n",
    "        3. What was the distribution of surival rate based on embarkment and class ?\n",
    "        4. What factors made people more likely to survive?\n",
    "        \n",
    "The following section will try to answer most of the questions posted above."
   ]
  },
  {
   "cell_type": "markdown",
   "metadata": {
    "collapsed": false
   },
   "source": [
    "Did age have a role to play in whether a passenger escaped ?\n",
    "To do this, I assume that if we see a strong correlation between a person age and survival , then we can assume that age has a role to play .\n",
    "However for calculation pearsons R , only rows with that orginally had a non nil age should be considered.\n"
   ]
  },
  {
   "cell_type": "code",
   "execution_count": 6,
   "metadata": {
    "collapsed": false
   },
   "outputs": [
    {
     "name": "stdout",
     "output_type": "stream",
     "text": [
      "-0.0772210945722\n"
     ]
    }
   ],
   "source": [
    "finite_age_titanic_data = titanic_data[np.isfinite(titanic_data['Age'])].copy(deep=True)\n",
    "age_series =  finite_age_titanic_data['Age']\n",
    "\n",
    "survived_series =  finite_age_titanic_data['Survived']\n",
    "p_r = age_series.corr(survived_series,method='pearson')\n",
    "\n",
    "print p_r"
   ]
  },
  {
   "cell_type": "markdown",
   "metadata": {},
   "source": [
    "Since pearsons r is -0.08 . \n",
    "Since the value is very close to 0, there is very little negative correlation between age and survival. This is is so small, we can assume solely on this calculation that age had no role to play in increasing a persons chance to escape.\n",
    "\n",
    "If we try to look at Age data further, the distribution of age of people who survived vs not survived would look like this:\n",
    "\n",
    "\n"
   ]
  },
  {
   "cell_type": "code",
   "execution_count": 7,
   "metadata": {
    "collapsed": false
   },
   "outputs": [
    {
     "data": {
      "text/plain": [
       "Survived  age_group\n",
       "0         0 - 9        0.406250\n",
       "          10 - 19      0.617391\n",
       "          20 - 29      0.634783\n",
       "          30 - 39      0.554839\n",
       "          40 - 49      0.616279\n",
       "          50 - 59      0.595238\n",
       "          60 - 69      0.764706\n",
       "          70 - 79      0.800000\n",
       "1         0 - 9        0.593750\n",
       "          10 - 19      0.382609\n",
       "          20 - 29      0.365217\n",
       "          30 - 39      0.445161\n",
       "          40 - 49      0.383721\n",
       "          50 - 59      0.404762\n",
       "          60 - 69      0.235294\n",
       "          70 - 79      0.200000\n",
       "dtype: float64"
      ]
     },
     "execution_count": 7,
     "metadata": {},
     "output_type": "execute_result"
    }
   ],
   "source": [
    "labels = [ \"{0} - {1}\".format(i, i + 9) for i in range(0, 100, 10) ]\n",
    "finite_age_titanic_data['age_group'] = pd.cut(finite_age_titanic_data['Age'], range(0, 106, 10), right=True, labels=labels)\n",
    "finite_age_titanic_data.groupby(['Survived','age_group']).size().groupby(level=1).apply(lambda x:  x/float(x.sum()))\n",
    "#not sure how to label the count column . The third column represents the distribution of every agen group again survived or not"
   ]
  },
  {
   "cell_type": "markdown",
   "metadata": {},
   "source": [
    "This data shows that 63% of people between the age 20 - 29 died .This could be because they gave their place for children and others in the lifeboat. There could also be other factors that could have an influence on the output.\n",
    "\n",
    "Also, children who are younger than 10 had the max survial rate . It is possible that they were helped by others to escape in the life boat."
   ]
  },
  {
   "cell_type": "markdown",
   "metadata": {},
   "source": [
    "What was the average fare paid across the different classes ?\n"
   ]
  },
  {
   "cell_type": "code",
   "execution_count": 8,
   "metadata": {
    "collapsed": false,
    "scrolled": false
   },
   "outputs": [
    {
     "name": "stdout",
     "output_type": "stream",
     "text": [
      "Pclass\n",
      "1    84.154687\n",
      "2    20.662183\n",
      "3    13.675550\n",
      "Name: Fare, dtype: float64\n"
     ]
    },
    {
     "data": {
      "text/plain": [
       "<matplotlib.text.Text at 0x100635090>"
      ]
     },
     "execution_count": 8,
     "metadata": {},
     "output_type": "execute_result"
    },
    {
     "data": {
      "image/png": "[encoded data removed]",
      "text/plain": [
       "<matplotlib.figure.Figure at 0x1077eecd0>"
      ]
     },
     "metadata": {},
     "output_type": "display_data"
    }
   ],
   "source": [
    "pclass_mean_far = titanic_data_org.groupby(['Pclass'])['Fare'].mean()\n",
    "print pclass_mean_far\n",
    "\n",
    "pclass = pclass_mean_far.index.get_level_values('Pclass')\n",
    "mean_fares =  pclass_mean_far.values\n",
    "\n",
    "#print pclass\n",
    "#print mean_fares\n",
    "plt.bar(pclass,mean_fares,align='center')\n",
    "plt.ylabel('Mean Fare')\n",
    "plt.xlabel('Class')\n"
   ]
  },
  {
   "cell_type": "markdown",
   "metadata": {},
   "source": [
    "On an average , passengers paid about \n",
    "$84.15 for class 1 \n",
    "$20.66 for class 2 \n",
    "$13.68 for class 3\n",
    "\n",
    "The average fare paid for pclass1 is about 6 times more than the average fares paid for pclass3"
   ]
  },
  {
   "cell_type": "code",
   "execution_count": 9,
   "metadata": {
    "collapsed": false
   },
   "outputs": [
    {
     "data": {
      "text/plain": [
       "<matplotlib.text.Text at 0x107a3afd0>"
      ]
     },
     "execution_count": 9,
     "metadata": {},
     "output_type": "execute_result"
    },
    {
     "data": {
      "image/png": "[encoded data removed]",
      "text/plain": [
       "<matplotlib.figure.Figure at 0x107810310>"
      ]
     },
     "metadata": {},
     "output_type": "display_data"
    }
   ],
   "source": [
    "max_fares = titanic_data_org.groupby(['Pclass'])['Fare'].max()\n",
    "\n",
    "#distribution of fares for pclass 1\n",
    "p1_labels = [ \"{0} - {1}\".format(i, i + 19) for i in range(0, int(math.ceil(max_fares.loc[1])+20), 20) ]\n",
    "titanic_data['fare_group']=pd.cut(titanic_data['Fare'], range(0,int(math.ceil(max_fares.loc[1]))+40, 20), right=True,\n",
    "                                  labels=p1_labels)\n",
    "\n",
    "\n",
    "#categorical index is a categorial index\n",
    "pclass_fare_count = titanic_data.groupby(['Pclass','fare_group']).size()\n",
    "\n",
    "\n",
    "for index in  p1_labels:\n",
    "    if index not in pclass_fare_count.loc[2].index.get_level_values('fare_group').get_values():\n",
    "        pclass_fare_count.loc[2,index]=0\n",
    "    if index not in pclass_fare_count.loc[1].index.get_level_values('fare_group').get_values():\n",
    "        pclass_fare_count.loc[1,index]=0\n",
    "    if index not in pclass_fare_count.loc[3].index.get_level_values('fare_group').get_values():\n",
    "        pclass_fare_count.loc[3,index]=0\n",
    "\n",
    "        \n",
    "fig, ax = plt.subplots(figsize=(30,12))\n",
    "ax.set_xticklabels(p1_labels)\n",
    "width=0.35\n",
    "ax.set_xticks( np.arange(27) + width)\n",
    "\n",
    "rects1 = ax.bar(np.arange(27), pclass_fare_count.loc[1].values, width, color='r')\n",
    "rects2 = ax.bar(np.arange(27) + width,pclass_fare_count.loc[2].values, width, color='y')\n",
    "rects3 = ax.bar(np.arange(27) + 2*width,pclass_fare_count.loc[3].values, width, color='g')\n",
    "dummy = plt.yticks(np.arange(0, pclass_fare_count.values.max(), 20))\n",
    "ax.legend((rects1[0], rects2[0],rects3[0]), ('Pclass1', 'Pclass2', 'Pclass3'))\n",
    "plt.xlabel(\"Fare bins\")\n",
    "plt.ylabel(\"fare\")\n",
    "\n",
    "#plt.show()\n"
   ]
  },
  {
   "cell_type": "markdown",
   "metadata": {},
   "source": [
    "What was the distribution of surival rate based on embarkment and class ?"
   ]
  },
  {
   "cell_type": "code",
   "execution_count": 10,
   "metadata": {
    "collapsed": false,
    "scrolled": false
   },
   "outputs": [
    {
     "name": "stdout",
     "output_type": "stream",
     "text": [
      "Survival rate of people who embarked from C is 55%\n",
      "Survival rate of people who embarked from Q is 38%\n",
      "Survival rate of people who embarked from S is 33%\n"
     ]
    }
   ],
   "source": [
    "emd_data = titanic_data_org.groupby(['Embarked','Survived']).size()\n",
    "for value in emd_data.index.get_level_values('Embarked').unique():\n",
    "    print(\"Survival rate of people who embarked from {} is {}%\".format(value, (emd_data.ix[value][1] * 100) / ( emd_data.ix[value][0] + emd_data.ix[value][1])))\n",
    "\n"
   ]
  },
  {
   "cell_type": "markdown",
   "metadata": {},
   "source": [
    "\n",
    "Survial distribution "
   ]
  },
  {
   "cell_type": "code",
   "execution_count": 11,
   "metadata": {
    "collapsed": false
   },
   "outputs": [
    {
     "data": {
      "image/png": "[encoded data removed]",
      "text/plain": [
       "<matplotlib.figure.Figure at 0x10786d950>"
      ]
     },
     "metadata": {},
     "output_type": "display_data"
    }
   ],
   "source": [
    "emd_data.loc[:,0].index.values    \n",
    "ind = np.arange(3)    # the x locations for the groups\n",
    "width = 0.35       # the width of the bars: can also be len(x) sequence\n",
    "\n",
    "p1 = plt.bar(ind, emd_data.loc[:,0].values , width, color='r')\n",
    "p2 = plt.bar(ind, emd_data.loc[:,1].values, width, color='y', bottom=emd_data.loc[:,0].values)\n",
    "\n",
    "plt.ylabel('Survival count')\n",
    "plt.xlabel('Embarkment')\n",
    "\n",
    "plt.title('Distribution of survival rate based on embarkment')\n",
    "plt.xticks(ind + width/2., emd_data.loc[:,0].index.values)\n",
    "#plt.yticks(np.arange(0, 81, 10))\n",
    "plt.legend((p1[0], p2[0]), ('Did not survive', 'Survived'))\n",
    "\n",
    "plt.show()\n"
   ]
  },
  {
   "cell_type": "markdown",
   "metadata": {},
   "source": [
    "It looks like most of the people who survived embarked from C . Though it is not possible to draw a conclusion with it, adding another parameter might help bring in a perspective.\n",
    "\n",
    "\n",
    "\n",
    "Pclass distribution of survival"
   ]
  },
  {
   "cell_type": "code",
   "execution_count": 12,
   "metadata": {
    "collapsed": false
   },
   "outputs": [
    {
     "name": "stdout",
     "output_type": "stream",
     "text": [
      "<pandas.core.indexing._LocIndexer object at 0x1079aead0>\n",
      "Survival rate of people who stayed in class  1 is 62%\n",
      "Survival rate of people who stayed in class  2 is 47%\n",
      "Survival rate of people who stayed in class  3 is 24%\n"
     ]
    }
   ],
   "source": [
    "pclass_data = titanic_data_org.groupby(['Pclass','Survived']).size()\n",
    "print pclass_data.loc\n",
    "for value in pclass_data.index.get_level_values('Pclass').unique():\n",
    "    print(\"Survival rate of people who stayed in class  {} is {}%\".format(value, (pclass_data.ix[value][1] * 100) / ( pclass_data.ix[value][0] + pclass_data.ix[value][1])))\n"
   ]
  },
  {
   "cell_type": "markdown",
   "metadata": {},
   "source": [
    "It looks like most of the people who survived were from Pclass1 . It could be because they had easier access to the lifeboats and made their way through it easily. \n",
    "\n",
    "\n",
    "\n",
    "What factors made people more likely to survive?\n",
    "\n",
    "To do this, we can look at the few dimensions and see the probability of survival vs non-survival "
   ]
  },
  {
   "cell_type": "code",
   "execution_count": 17,
   "metadata": {
    "collapsed": false
   },
   "outputs": [
    {
     "data": {
      "text/plain": [
       "Sex     Survived  Pclass\n",
       "female  0         1         0.009554\n",
       "                  2         0.019108\n",
       "                  3         0.229299\n",
       "        1         1         0.289809\n",
       "                  2         0.222930\n",
       "                  3         0.229299\n",
       "male    0         1         0.133449\n",
       "                  2         0.157712\n",
       "                  3         0.519931\n",
       "        1         1         0.077990\n",
       "                  2         0.029463\n",
       "                  3         0.081456\n",
       "dtype: float64"
      ]
     },
     "execution_count": 17,
     "metadata": {},
     "output_type": "execute_result"
    }
   ],
   "source": [
    "titanic_data_org.groupby(['Sex','Survived','Pclass']).size().groupby(level=0).apply(lambda x: x/float(x.sum()))"
   ]
  },
  {
   "cell_type": "markdown",
   "metadata": {
    "collapsed": true
   },
   "source": [
    "Females suvived more than men . It could be because the men tried to help female passengers to escape.\n",
    "Amongst the females, pclass1 passengers had a better chance of survival. There is also an interesting point here is that, the survival chance of men from pclass 3 is more than pclass2 or pclass1. It could be because men from pclass1 and pclass2 had children and women who they tried helping to escape before them . "
   ]
  },
  {
   "cell_type": "code",
   "execution_count": null,
   "metadata": {
    "collapsed": true
   },
   "outputs": [],
   "source": []
  }
 ],
 "metadata": {
  "kernelspec": {
   "display_name": "Python 2",
   "language": "python",
   "name": "python2"
  },
  "language_info": {
   "codemirror_mode": {
    "name": "ipython",
    "version": 2
   },
   "file_extension": ".py",
   "mimetype": "text/x-python",
   "name": "python",
   "nbconvert_exporter": "python",
   "pygments_lexer": "ipython2",
   "version": "2.7.11"
  }
 },
 "nbformat": 4,
 "nbformat_minor": 0
}
